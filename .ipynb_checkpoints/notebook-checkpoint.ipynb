{
 "cells": [
  {
   "cell_type": "markdown",
   "metadata": {
    "dc": {
     "key": "8"
    },
    "deletable": false,
    "editable": false,
    "run_control": {
     "frozen": true
    },
    "tags": [
     "context"
    ]
   },
   "source": [
    "## 1. Classic American names\n",
    "<p><img src=\"https://assets.datacamp.com/production/project_1441/img/name.jpg\" alt=\"Lots of name tags piled on top of each other.\" width=\"600\"></p>\n",
    "<p>Photo by Travis Wise on <a href=\"https://commons.wikimedia.org/wiki/File:Hello_My_Name_Is_(15283079263).jpg\">Wikimedia</a>.</p>\n",
    "<p>How have American baby name tastes changed since 1920?  Which names have remained popular for over 100 years, and how do those names compare to more recent top baby names? These are considerations for many new parents, but the skills we'll practice while answering these queries are broadly applicable. After all, understanding trends and popularity is important for many businesses, too! </p>\n",
    "<p>We'll be working with data provided by the United States Social Security Administration, which lists first names along with the number and sex of babies they were given to in each year. For processing speed purposes, we've limited the dataset to first names which were given to over 5,000 American babies in a given year. Our data spans 101 years, from 1920 through 2020.</p>\n",
    "<h3 id=\"baby_names\"><code>baby_names</code></h3>\n",
    "<table>\n",
    "<thead>\n",
    "<tr>\n",
    "<th style=\"text-align:left;\">column</th>\n",
    "<th>type</th>\n",
    "<th>meaning</th>\n",
    "</tr>\n",
    "</thead>\n",
    "<tbody>\n",
    "<tr>\n",
    "<td style=\"text-align:left;\"><code>year</code></td>\n",
    "<td>int</td>\n",
    "<td>year</td>\n",
    "</tr>\n",
    "<tr>\n",
    "<td style=\"text-align:left;\"><code>first_name</code></td>\n",
    "<td>varchar</td>\n",
    "<td>first name</td>\n",
    "</tr>\n",
    "<tr>\n",
    "<td style=\"text-align:left;\"><code>sex</code></td>\n",
    "<td>varchar</td>\n",
    "<td><code>sex</code> of babies given <code>first_name</code></td>\n",
    "</tr>\n",
    "<tr>\n",
    "<td style=\"text-align:left;\"><code>num</code></td>\n",
    "<td>int</td>\n",
    "<td>number of babies of <code>sex</code> given <code>first_name</code> in that <code>year</code></td>\n",
    "</tr>\n",
    "</tbody>\n",
    "</table>\n",
    "<p>Let's get oriented to American baby name tastes by looking at the names that have stood the test of time!</p>"
   ]
  },
  {
   "cell_type": "code",
   "execution_count": 49,
   "metadata": {
    "dc": {
     "key": "8"
    },
    "tags": [
     "sample_code"
    ]
   },
   "outputs": [
    {
     "name": "stderr",
     "output_type": "stream",
     "text": [
      "UsageError: Cell magic `%%sql` not found.\n"
     ]
    }
   ],
   "source": [
    "%%sql\n",
    "postgresql:///names\n",
    "    \n",
    "-- Select first names and the total babies with that first_name\n",
    "-- Group by first_name and filter for those names that appear in all 101 years\n",
    "-- Order by the total number of babies with that first_name, descending\n",
    "SELECT first_name, sum(num)\n",
    "from baby_names\n",
    "group by first_name\n",
    "having count(first_name) = 101\n",
    "order by 2 desc"
   ]
  },
  {
   "cell_type": "markdown",
   "metadata": {
    "dc": {
     "key": "15"
    },
    "deletable": false,
    "editable": false,
    "run_control": {
     "frozen": true
    },
    "tags": [
     "context"
    ]
   },
   "source": [
    "## 2. Timeless or trendy?\n",
    "<p>Wow, it looks like there are a lot of timeless traditionally male names! Elizabeth is holding her own for the female names, too. </p>\n",
    "<p>Now, let's broaden our understanding of the dataset by looking at all names. We'll attempt to capture the type of popularity that each name in the dataset enjoyed. Was the name classic and popular across many years or trendy, only popular for a few years? Let's find out. </p>"
   ]
  },
  {
   "cell_type": "code",
   "execution_count": 50,
   "metadata": {
    "dc": {
     "key": "15"
    },
    "tags": [
     "sample_code"
    ]
   },
   "outputs": [
    {
     "name": "stderr",
     "output_type": "stream",
     "text": [
      "UsageError: Cell magic `%%sql` not found.\n"
     ]
    }
   ],
   "source": [
    "%%sql\n",
    "\n",
    "-- Classify first names as 'Classic', 'Semi-classic', 'Semi-trendy', or 'Trendy'\n",
    "-- Alias this column as popularity_type\n",
    "-- Select first_name, the sum of babies who have ever had that name, and popularity_type\n",
    "-- Order the results alphabetically by first_name\n",
    "SELECT first_name, sum(num),\n",
    "    case when count(first_name) < 20 THEN 'Trendy'\n",
    "         when count(first_name) < 50 THEN 'Semi-trendy'\n",
    "         when count(first_name) < 80 THEN 'Semi-classic'\n",
    "         else 'Classic' end as popularity_type\n",
    "FROM baby_names\n",
    "group by first_name\n",
    "order by 1"
   ]
  },
  {
   "cell_type": "markdown",
   "metadata": {
    "dc": {
     "key": "22"
    },
    "deletable": false,
    "editable": false,
    "run_control": {
     "frozen": true
    },
    "tags": [
     "context"
    ]
   },
   "source": [
    "## 3. Top-ranked female names since 1920\n",
    "<p>Did you find your favorite American celebrity's name on the popularity chart? Was it classic or trendy? How do you think the name Henry did? What about Jaxon?</p>\n",
    "<p>Since we didn't get many traditionally female names in our classic American names search in the first task, let's limit our search to names which were given to female babies. </p>\n",
    "<p>We can use this opportunity to practice window functions by assigning a rank to female names based on the number of babies that have ever been given that name. What are the top-ranked female names since 1920?</p>"
   ]
  },
  {
   "cell_type": "code",
   "execution_count": 51,
   "metadata": {
    "dc": {
     "key": "22"
    },
    "tags": [
     "sample_code"
    ]
   },
   "outputs": [
    {
     "name": "stderr",
     "output_type": "stream",
     "text": [
      "UsageError: Cell magic `%%sql` not found.\n"
     ]
    }
   ],
   "source": [
    "%%sql\n",
    "\n",
    "-- RANK names by the sum of babies who have ever had that name (descending), aliasing as \n",
    "-- name_rank\n",
    "-- Select name_rank, first_name, and the sum of babies who have ever had that name\n",
    "-- Filter the data for results where sex equals 'F'\n",
    "-- Limit to ten results\n",
    "select \n",
    "    rank() over( order by sum(num) desc) as name_rank,\n",
    "    first_name,\n",
    "    sum(num)\n",
    "from baby_names\n",
    "where sex='F'\n",
    "group by first_name\n",
    "limit 10\n"
   ]
  },
  {
   "cell_type": "markdown",
   "metadata": {
    "dc": {
     "key": "29"
    },
    "deletable": false,
    "editable": false,
    "run_control": {
     "frozen": true
    },
    "tags": [
     "context"
    ]
   },
   "source": [
    "## 4. Picking a baby name\n",
    "<p>Perhaps a friend has heard of our work analyzing baby names and would like help choosing a name for her baby, a girl. She doesn't like any of the top-ranked names we found in the previous task. </p>\n",
    "<p>She's set on a traditionally female name ending in the letter 'a' since she's heard that vowels in baby names are trendy. She's also looking for a name that has been popular in the years since 2015. </p>\n",
    "<p>Let's see what we can do to find some options for this friend!</p>"
   ]
  },
  {
   "cell_type": "code",
   "execution_count": 52,
   "metadata": {
    "dc": {
     "key": "29"
    },
    "tags": [
     "sample_code"
    ]
   },
   "outputs": [
    {
     "name": "stderr",
     "output_type": "stream",
     "text": [
      "UsageError: Cell magic `%%sql` not found.\n"
     ]
    }
   ],
   "source": [
    "%%sql\n",
    "-- Select only the first_name column\n",
    "-- Filter for results where sex is 'F', year is greater than 2015, and first_name ends in 'a'\n",
    "-- Group by first_name and order by the total number of babies given that first_name\n",
    "select first_name\n",
    "from baby_names\n",
    "where sex='F' AND year > 2015 AND first_name LIKE '%a'\n",
    "group by first_name\n",
    "order by sum(num) desc\n"
   ]
  },
  {
   "cell_type": "markdown",
   "metadata": {
    "dc": {
     "key": "36"
    },
    "deletable": false,
    "editable": false,
    "run_control": {
     "frozen": true
    },
    "tags": [
     "context"
    ]
   },
   "source": [
    "## 5. The Olivia expansion\n",
    "<p>Based on the results in the previous task, we can see that Olivia is the most popular female name ending in 'A' since 2015. When did the name Olivia become so popular?</p>\n",
    "<p>Let's explore the rise of the name Olivia with the help of a window function.</p>"
   ]
  },
  {
   "cell_type": "code",
   "execution_count": 53,
   "metadata": {
    "dc": {
     "key": "36"
    },
    "tags": [
     "sample_code"
    ]
   },
   "outputs": [
    {
     "name": "stderr",
     "output_type": "stream",
     "text": [
      "UsageError: Cell magic `%%sql` not found.\n"
     ]
    }
   ],
   "source": [
    "%%sql\n",
    "\n",
    "-- Select year, first_name, num of Olivias in that year, and cumulative_olivias\n",
    "-- Sum the cumulative babies who have been named Olivia up to that year; \n",
    "-- alias as cumulative_olivias\n",
    "-- Filter so that only data for the name Olivia is returned.\n",
    "-- Order by year from the earliest year to most recent\n",
    "select \n",
    "    year,\n",
    "    first_name,\n",
    "    num,\n",
    "    sum(num) OVER\n",
    "    ( order by year RANGE BETWEEN UNBOUNDED PRECEDING AND CURRENT ROW )\n",
    "    as cumulative_olivias\n",
    "FROM baby_names\n",
    "where first_name='Olivia'"
   ]
  },
  {
   "cell_type": "markdown",
   "metadata": {
    "dc": {
     "key": "43"
    },
    "deletable": false,
    "editable": false,
    "run_control": {
     "frozen": true
    },
    "tags": [
     "context"
    ]
   },
   "source": []
  },
  {
   "cell_type": "markdown",
   "metadata": {},
   "source": []
  },
  {
   "cell_type": "markdown",
   "metadata": {},
   "source": [
    "## 6. Many males with the same name\n",
    "<p>Wow, Olivia has had a meteoric rise! Let's take a look at traditionally male names now. We saw in the first task that there are nine traditionally male names given to at least 5,000 babies every single year in our 101-year dataset! Those names are classics, but showing up in the dataset every year doesn't necessarily mean that the timeless names were the most popular. Let's explore popular male names a little further.</p>\n",
    "<p>In the next two tasks, we will build up to listing every year along with the most popular male name in that year. This presents a common problem: how do we find the greatest X in a group? Or, in the context of this problem, how do we find the male name given to the highest number of babies in a year? </p>\n",
    "<p>In SQL, one approach is to use a subquery. We can first write a query that selects the <code>year</code> and the maximum <code>num</code> of babies given any single male name in that year. For example, in 1989, the male name given to the highest number of babies was given to 65,339 babies. We'll write this query in this task. In the next task, we can use the code from this task as a subquery to look up the <code>first_name</code> that was given to 65,339 babies in 1989… as well as the top male first name for all other years!</p>"
   ]
  },
  {
   "cell_type": "code",
   "execution_count": 54,
   "metadata": {
    "dc": {
     "key": "43"
    },
    "tags": [
     "sample_code"
    ]
   },
   "outputs": [
    {
     "name": "stderr",
     "output_type": "stream",
     "text": [
      "UsageError: Cell magic `%%sql` not found.\n"
     ]
    }
   ],
   "source": [
    "%%sql\n",
    "\n",
    "-- Select year and maximum number of babies given any one male name in that year, \n",
    "-- aliased as max_num\n",
    "-- Filter the data to include only results where sex equals 'M'\n",
    "select year, max(num) as max_num\n",
    "from baby_names\n",
    "where sex='M'\n",
    "group by year"
   ]
  },
  {
   "cell_type": "markdown",
   "metadata": {
    "dc": {
     "key": "50"
    },
    "deletable": false,
    "editable": false,
    "run_control": {
     "frozen": true
    },
    "tags": [
     "context"
    ]
   },
   "source": [
    "## 7. Top male names over the years\n",
    "<p>In the previous task, we found the maximum number of babies given any one male name in each year. Incredibly, the most popular name each year varied from being given to less than 20,000 babies to being given to more than 90,000! </p>\n",
    "<p>In this task, we find out what that top male name is for each year in our dataset. </p>"
   ]
  },
  {
   "cell_type": "code",
   "execution_count": 55,
   "metadata": {
    "dc": {
     "key": "50"
    },
    "tags": [
     "sample_code"
    ]
   },
   "outputs": [
    {
     "name": "stderr",
     "output_type": "stream",
     "text": [
      "UsageError: Cell magic `%%sql` not found.\n"
     ]
    }
   ],
   "source": [
    "%%sql\n",
    "\n",
    "-- Select year, first_name given to the largest number of male babies, \n",
    "-- and num of babies given that name\n",
    "-- Join baby_names to the code in the last task as a subquery\n",
    "-- Order results by year descending\n",
    "select b.year, first_name, num\n",
    "from baby_names as b\n",
    "join (select year, max(num) as max_num\n",
    "from baby_names\n",
    "where sex='M'\n",
    "group by year) as t1\n",
    "ON t1.max_num=b.num and t1.year=b.year\n",
    "ORDER BY b.year desc"
   ]
  },
  {
   "cell_type": "markdown",
   "metadata": {
    "dc": {
     "key": "57"
    },
    "deletable": false,
    "editable": false,
    "run_control": {
     "frozen": true
    },
    "tags": [
     "context"
    ]
   },
   "source": [
    "## 8. The most years at number one\n",
    "<p>Noah and Liam have ruled the roost in the last few years, but if we scroll down in the results, it looks like Michael and Jacob have also spent a good number of years as the top name! Which name has been number one for the largest number of years? Let's use a common table expression to find out. </p>"
   ]
  },
  {
   "cell_type": "code",
   "execution_count": 56,
   "metadata": {
    "dc": {
     "key": "57"
    },
    "tags": [
     "sample_code"
    ]
   },
   "outputs": [
    {
     "name": "stderr",
     "output_type": "stream",
     "text": [
      "UsageError: Cell magic `%%sql` not found.\n"
     ]
    }
   ],
   "source": [
    "%%sql\n",
    "\n",
    "-- Select first_name and a count of years it was the top name in the last task;\n",
    "-- alias as count_top_name\n",
    "-- Use the code from the previous task as a common table expression\n",
    "-- Group by first_name and order by count_top_name descending\n",
    "with popular_name_per_year as (\n",
    "    select b.year, first_name\n",
    "    from baby_names as b\n",
    "    join (select year, max(num) as max_num\n",
    "    from baby_names\n",
    "    where sex='M'\n",
    "    group by year) as t1\n",
    "    ON t1.max_num=b.num and t1.year=b.year\n",
    "    ORDER BY b.year desc\n",
    ")\n",
    "\n",
    "select first_name, count(*) as count_top_name\n",
    "from popular_name_per_year\n",
    "group by first_name\n",
    "order by 2 desc;"
   ]
  }
 ],
 "metadata": {
  "kernelspec": {
   "display_name": "Python 3 (ipykernel)",
   "language": "python",
   "name": "python3"
  },
  "language_info": {
   "codemirror_mode": {
    "name": "ipython",
    "version": 3
   },
   "file_extension": ".py",
   "mimetype": "text/x-python",
   "name": "python",
   "nbconvert_exporter": "python",
   "pygments_lexer": "ipython3",
   "version": "3.9.13"
  },
  "vscode": {
   "interpreter": {
    "hash": "b0fa6594d8f4cbf19f97940f81e996739fb7646882a419484c72d19e05852a7e"
   }
  }
 },
 "nbformat": 4,
 "nbformat_minor": 2
}
